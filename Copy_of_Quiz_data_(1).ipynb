{
  "nbformat": 4,
  "nbformat_minor": 0,
  "metadata": {
    "kernelspec": {
      "display_name": "Python 3",
      "language": "python",
      "name": "python3"
    },
    "language_info": {
      "codemirror_mode": {
        "name": "ipython",
        "version": 3
      },
      "file_extension": ".py",
      "mimetype": "text/x-python",
      "name": "python",
      "nbconvert_exporter": "python",
      "pygments_lexer": "ipython3",
      "version": "3.7.4"
    },
    "colab": {
      "name": "Copy_of_Quiz_data_(1).ipynb",
      "provenance": [],
      "collapsed_sections": []
    }
  },
  "cells": [
    {
      "cell_type": "markdown",
      "metadata": {
        "id": "dwROdLznEcoD",
        "colab_type": "text"
      },
      "source": [
        "# Quiz 3 (15 Points)"
      ]
    },
    {
      "cell_type": "markdown",
      "metadata": {
        "id": "Jd8unkb_EcoF",
        "colab_type": "text"
      },
      "source": [
        "# Question 1"
      ]
    },
    {
      "cell_type": "markdown",
      "metadata": {
        "id": "17lnZMghEcoG",
        "colab_type": "text"
      },
      "source": [
        "I have made up some data below and your job is to try to extract the necessary information from the data "
      ]
    },
    {
      "cell_type": "code",
      "metadata": {
        "id": "OfxXNTmwEcoH",
        "colab_type": "code",
        "colab": {}
      },
      "source": [
        "data = [{\n",
        "  \"_id\": {\n",
        "    \"$oid\": \"5968dd23fc13ae04d9000001\"\n",
        "  },\n",
        "  \"product_name\": \"sildenafil citrate\",\n",
        "  \"supplier\": \"Wisozk Inc\",\n",
        "  \"quantity\": 261,\n",
        "  \"unit_cost\": \"$10.47\"\n",
        "}, {\n",
        "  \"_id\": {\n",
        "    \"$oid\": \"5968dd23fc13ae04d9000002\"\n",
        "  },\n",
        "  \"product_name\": \"Mountain Juniperus ashei\",\n",
        "  \"supplier\": \"Keebler-Hilpert\",\n",
        "  \"quantity\": 292,\n",
        "  \"unit_cost\": \"$8.74\"\n",
        "}, {\n",
        "  \"_id\": {\n",
        "    \"$oid\": \"5968dd23fc13ae04d9000003\"\n",
        "  },\n",
        "  \"product_name\": \"Dextromathorphan HBr\",\n",
        "  \"supplier\": \"Schmitt-Weissnat\",\n",
        "  \"quantity\": 211,\n",
        "  \"unit_cost\": \"$20.53\"\n",
        "}];"
      ],
      "execution_count": 0,
      "outputs": []
    },
    {
      "cell_type": "markdown",
      "metadata": {
        "id": "NccY9sjnEcoM",
        "colab_type": "text"
      },
      "source": [
        "### Question  1A (1 point)\n",
        "####  Print the content of the data \n",
        "- Hint: one line answer"
      ]
    },
    {
      "cell_type": "code",
      "metadata": {
        "id": "v2pCaNVuEcoM",
        "colab_type": "code",
        "colab": {
          "base_uri": "https://localhost:8080/",
          "height": 163
        },
        "outputId": "78f459d0-1995-49ae-bc97-5fdd70a6f3df"
      },
      "source": [
        "print(data)"
      ],
      "execution_count": 1,
      "outputs": [
        {
          "output_type": "error",
          "ename": "NameError",
          "evalue": "ignored",
          "traceback": [
            "\u001b[0;31m---------------------------------------------------------------------------\u001b[0m",
            "\u001b[0;31mNameError\u001b[0m                                 Traceback (most recent call last)",
            "\u001b[0;32m<ipython-input-1-dbd883db58b7>\u001b[0m in \u001b[0;36m<module>\u001b[0;34m()\u001b[0m\n\u001b[0;32m----> 1\u001b[0;31m \u001b[0mprint\u001b[0m\u001b[0;34m(\u001b[0m\u001b[0mdata\u001b[0m\u001b[0;34m)\u001b[0m\u001b[0;34m\u001b[0m\u001b[0;34m\u001b[0m\u001b[0m\n\u001b[0m",
            "\u001b[0;31mNameError\u001b[0m: name 'data' is not defined"
          ]
        }
      ]
    },
    {
      "cell_type": "markdown",
      "metadata": {
        "id": "U0hoZmF3EcoQ",
        "colab_type": "text"
      },
      "source": [
        "###  Question  1B (1 point)\n",
        "####  Print the type of Data\n",
        "- Hint: one line answer"
      ]
    },
    {
      "cell_type": "code",
      "metadata": {
        "id": "ZxqrFxA1EcoQ",
        "colab_type": "code",
        "colab": {}
      },
      "source": [
        "Dictionaries, strings, intezers"
      ],
      "execution_count": 0,
      "outputs": []
    },
    {
      "cell_type": "markdown",
      "metadata": {
        "id": "nMTpK709EcoV",
        "colab_type": "text"
      },
      "source": [
        "### Question  1C (1 point)\n",
        "#### Print the length of data\n",
        "- Hint: one line answer"
      ]
    },
    {
      "cell_type": "code",
      "metadata": {
        "id": "ADY15LdGEcoV",
        "colab_type": "code",
        "colab": {}
      },
      "source": [
        "3\n"
      ],
      "execution_count": 0,
      "outputs": []
    },
    {
      "cell_type": "markdown",
      "metadata": {
        "id": "6FeH8Qq_EcoZ",
        "colab_type": "text"
      },
      "source": [
        "### Question 1D (4 points)"
      ]
    },
    {
      "cell_type": "markdown",
      "metadata": {
        "id": "yTLzUtwlEcoc",
        "colab_type": "text"
      },
      "source": [
        "write a program that extracts and prints out the **'quantity'** key from the data.\n",
        "\n",
        "\n",
        "- Hint: Use a for loop to iterate through the data\n",
        "- **You do not need** to encapsulate it in a function\n",
        "\n",
        "it should produce the output in the cell below:\n",
        "```python\n",
        "261\n",
        "292\n",
        "211\n",
        "\n",
        "```\n"
      ]
    },
    {
      "cell_type": "code",
      "metadata": {
        "id": "qz7rSVcIEcod",
        "colab_type": "code",
        "colab": {}
      },
      "source": [
        "print data.quantity[]\n",
        "\n"
      ],
      "execution_count": 0,
      "outputs": []
    },
    {
      "cell_type": "code",
      "metadata": {
        "id": "HvOy_z03Ecog",
        "colab_type": "code",
        "colab": {}
      },
      "source": [
        "print data.quantity[]\n"
      ],
      "execution_count": 0,
      "outputs": []
    },
    {
      "cell_type": "code",
      "metadata": {
        "id": "t9jxA4dYEcom",
        "colab_type": "code",
        "colab": {}
      },
      "source": [
        "print data.quantity[]\n"
      ],
      "execution_count": 0,
      "outputs": []
    },
    {
      "cell_type": "markdown",
      "metadata": {
        "id": "C10jRqTaEcop",
        "colab_type": "text"
      },
      "source": [
        "<hr>"
      ]
    },
    {
      "cell_type": "markdown",
      "metadata": {
        "id": "nsgGp4KlEcop",
        "colab_type": "text"
      },
      "source": [
        "# Question 2"
      ]
    },
    {
      "cell_type": "code",
      "metadata": {
        "id": "RTDawSdIEcoq",
        "colab_type": "code",
        "colab": {}
      },
      "source": [
        "data2 = {\n",
        "    \"quiz\": {\n",
        "        \"sport\": {\n",
        "            \"q1\": {\n",
        "                \"question\": \"Which one is correct team name in NBA?\",\n",
        "                \"options\": [\n",
        "                    \"New York Bulls\",\n",
        "                    \"Los Angeles Kings\",\n",
        "                    \"Golden State Warriros\",\n",
        "                    \"Huston Rocket\"\n",
        "                ],\n",
        "                \"answer\": \"Huston Rocket\"\n",
        "            }\n",
        "        },\n",
        "        \"maths\": {\n",
        "            \"q1\": {\n",
        "                \"question\": \"5 + 7 = ?\",\n",
        "                \"options\": [\n",
        "                    \"10\",\n",
        "                    \"11\",\n",
        "                    \"12\",\n",
        "                    \"13\"\n",
        "                ],\n",
        "                \"answer\": \"12\"\n",
        "            }\n",
        "        }\n",
        "    }\n",
        "}"
      ],
      "execution_count": 0,
      "outputs": []
    },
    {
      "cell_type": "markdown",
      "metadata": {
        "id": "yOYl76OfEcot",
        "colab_type": "text"
      },
      "source": [
        "### Question  2A (1 point)\n",
        "#### Print the content of the data2 \n",
        "- Hint: one line answer"
      ]
    },
    {
      "cell_type": "code",
      "metadata": {
        "id": "-qbLu5gGEcot",
        "colab_type": "code",
        "colab": {}
      },
      "source": [
        "quiz: sport: q1: Which one is correct team name in NBA?\n",
        "                options:\n",
        "                    New York Bulls, Los Angeles Kings, Golden State Warriros, Huston Rocket\n",
        "\n",
        "\n"
      ],
      "execution_count": 0,
      "outputs": []
    },
    {
      "cell_type": "markdown",
      "metadata": {
        "id": "r8m-MGNFEcox",
        "colab_type": "text"
      },
      "source": [
        "### Question  2B (1 point)\n",
        "#### Print the type of Data2\n",
        "- Hint: one line answer"
      ]
    },
    {
      "cell_type": "code",
      "metadata": {
        "id": "JfdmrrILEcox",
        "colab_type": "code",
        "colab": {}
      },
      "source": [
        "dictionaries, strings\n"
      ],
      "execution_count": 0,
      "outputs": []
    },
    {
      "cell_type": "markdown",
      "metadata": {
        "id": "U2MUdvaFEco0",
        "colab_type": "text"
      },
      "source": [
        "### Question  2C (1point)\n",
        "#### Print the length of data2\n",
        "- Hint: one line answer"
      ]
    },
    {
      "cell_type": "code",
      "metadata": {
        "id": "4bjHyjXmEco1",
        "colab_type": "code",
        "colab": {}
      },
      "source": [
        "3\n"
      ],
      "execution_count": 0,
      "outputs": []
    },
    {
      "cell_type": "markdown",
      "metadata": {
        "id": "kpRMiU7xEco4",
        "colab_type": "text"
      },
      "source": [
        "### Question 2D (5 points)"
      ]
    },
    {
      "cell_type": "markdown",
      "metadata": {
        "id": "n93mH1MiEco4",
        "colab_type": "text"
      },
      "source": [
        "write a program that extracts and prints out the **'options'** key from the data2.\n",
        "\n",
        "\n",
        "- Hint: Use a for loop to iterate through the data\n",
        "- to get the items in a dictionary, use: **data2.items()**\n",
        "- to get the keys in a dictionary, use: **data2.keys()**\n",
        "- to get the values in a dictionary use: **data2.values()**\n",
        "\n",
        "it should produce the output in the cell below:\n",
        "\n",
        "```python\n",
        "['New York Bulls', 'Los Angeles Kings', 'Golden State Warriros', 'Huston Rocket']\n",
        "['10', '11', '12', '13']\n",
        "\n",
        "```\n",
        "**You do not need** to encapsulate it in a function "
      ]
    },
    {
      "cell_type": "code",
      "metadata": {
        "id": "SefN3vNeEco5",
        "colab_type": "code",
        "colab": {}
      },
      "source": [
        "for level1_keys, level1_vals in data2.items():\n",
        "  data2.options()= \n",
        "    return\n"
      ],
      "execution_count": 0,
      "outputs": []
    },
    {
      "cell_type": "code",
      "metadata": {
        "id": "_Lw6AE8AEco8",
        "colab_type": "code",
        "colab": {}
      },
      "source": [
        "# free cell to write code\n",
        "\n"
      ],
      "execution_count": 0,
      "outputs": []
    },
    {
      "cell_type": "code",
      "metadata": {
        "id": "BwYeSWgVEcpA",
        "colab_type": "code",
        "colab": {}
      },
      "source": [
        "# free cell to write code\n"
      ],
      "execution_count": 0,
      "outputs": []
    }
  ]
}